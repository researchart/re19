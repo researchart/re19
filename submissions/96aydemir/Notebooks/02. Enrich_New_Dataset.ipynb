{
  "nbformat": 4,
  "nbformat_minor": 0,
  "metadata": {
    "colab": {
      "name": "02_KM_enrichment.ipynb",
      "version": "0.3.2",
      "provenance": [],
      "collapsed_sections": [],
      "toc_visible": true
    },
    "kernelspec": {
      "display_name": "Python 3",
      "language": "python",
      "name": "python3"
    }
  },
  "cells": [
    {
      "cell_type": "markdown",
      "metadata": {
        "id": "g1pBEJLFXgGd",
        "colab_type": "text"
      },
      "source": [
        "# RE19-classification: enrichment of a new dataset with features determined KM\n",
        "\n",
        "This notebook takes as input a previously enriched dataset d1 (from notebook 01_reconstruction_KM) and a new dataset d2 to be enriched, and enriches d2 by calculating the values for all the features from .d1."
      ]
    },
    {
      "cell_type": "markdown",
      "metadata": {
        "id": "i4UYLLiWXgGp",
        "colab_type": "text"
      },
      "source": [
        "## 0. Set up (optional)\n",
        "\n",
        "Run the following install functions if running Jupyter on a cloud environment like Colaboratory, which does not allow you to install the libraries permanently on your local machine"
      ]
    },
    {
      "cell_type": "code",
      "metadata": {
        "id": "TMoT1F60XgGy",
        "colab_type": "code",
        "colab": {}
      },
      "source": [
        "!pip install cython numpy\n",
        "!pip install benepar[cpu]\n"
      ],
      "execution_count": 0,
      "outputs": []
    },
    {
      "cell_type": "markdown",
      "metadata": {
        "id": "PPplS2cpXgHN",
        "colab_type": "text"
      },
      "source": [
        "## 1. Import libraries"
      ]
    },
    {
      "cell_type": "code",
      "metadata": {
        "id": "c4nPAVAEXgHY",
        "colab_type": "code",
        "colab": {}
      },
      "source": [
        "# Basic numpy, sklearn, pandas libraries\n",
        "import pandas as pd\n",
        "from sklearn.ensemble import GradientBoostingClassifier, RandomForestClassifier, AdaBoostClassifier, ExtraTreesClassifier\n",
        "from sklearn.model_selection import train_test_split\n",
        "import numpy as np\n",
        "from IPython.display import display\n",
        "\n",
        "# Basic NLTK tooling\n",
        "import nltk\n",
        "nltk.download('punkt')\n",
        "nltk.download('averaged_perceptron_tagger')\n",
        "nltk.download('wordnet')\n",
        "from nltk.tokenize import RegexpTokenizer\n",
        "\n",
        "tokenizer = RegexpTokenizer(r'\\w+')\n",
        "\n",
        "# The benepar parser -- this is supposed to be a better parser than Stanford's parser used in the RE'17 paper\n",
        "import benepar\n",
        "benepar.download('benepar_en2')\n",
        "\n",
        "# Tqdm, for progress bars -- useful to show that the parsing is working\n",
        "from tqdm import tqdm"
      ],
      "execution_count": 0,
      "outputs": []
    },
    {
      "cell_type": "markdown",
      "metadata": {
        "id": "MBTYma3AXgIE",
        "colab_type": "text"
      },
      "source": [
        "## [Functions] dataset enrichment\n",
        "\n",
        "Additional features are added, if also present in the original dataset."
      ]
    },
    {
      "cell_type": "code",
      "metadata": {
        "id": "yLmhUSlmXgIJ",
        "colab_type": "code",
        "colab": {}
      },
      "source": [
        "def enrich_ling(data):\n",
        "  # Text length\n",
        "  if 'Length' in data.columns:\n",
        "    data['Length'] = 0\n",
        "    idx = 0\n",
        "    for x in data['RequirementText']:\n",
        "        data.at[idx, 'Length'] = len(x)\n",
        "        idx = idx + 1  \n",
        "\n",
        "  # POS tags and tree information\n",
        "  parser = benepar.Parser(\"benepar_en2\")\n",
        "  if 'Modal' in data.columns:\n",
        "    data['Modal'] = 0.0\n",
        "  if 'Adjective' in data.columns:\n",
        "    data['Adjective'] = 0.0\n",
        "  if 'Noun' in data.columns:\n",
        "    data['Noun'] = 0.0\n",
        "  if 'Adverb' in data.columns:\n",
        "    data['Adverb'] = 0.0\n",
        "  if 'Verb' in data.columns:\n",
        "    data['Verb'] = 0.0\n",
        "  if 'TreeHeight' in data.columns:\n",
        "    data['TreeHeight'] = 0\n",
        "  if 'SubTrees' in data.columns:\n",
        "    data['SubTrees'] = 0\n",
        "\n",
        "  idx = 0\n",
        "  for req in tqdm(data['RequirementText'], desc='Parse trees', position=0):\n",
        "      tokens = tokenizer.tokenize(req)\n",
        "      if 'Words' in data.columns:\n",
        "        data.at[idx, 'Words'] = len(tokens)\n",
        "      tags = nltk.pos_tag(tokens)\n",
        "      fd = nltk.FreqDist(tag for (word, tag) in tags)\n",
        "      for key, value in fd.items():\n",
        "          if key==\"MD\" and 'Modal' in data.columns:\n",
        "              data.at[idx, 'Modal'] = value\n",
        "          if key.startswith(\"JJ\") and 'Adjective' in data.columns:\n",
        "              data.at[idx, 'Adjective'] = value\n",
        "          if key.startswith(\"VB\") and 'Verb' in data.columns:\n",
        "              data.at[idx, 'Verb'] = value\n",
        "          if key.startswith(\"NN\") and 'Noun' in data.columns:\n",
        "              data.at[idx, 'Noun'] = value\n",
        "          if key==\"RB\" and 'Adverb' in data.columns:\n",
        "              data.at[idx, 'Adverb'] = value\n",
        "      if 'Modal' in data.columns:\n",
        "        data.at[idx, 'Modal'] = data.at[idx, 'Modal'] / len(tokens)\n",
        "      if 'Adjective' in data.columns:\n",
        "        data.at[idx, 'Adjective'] = data.at[idx, 'Adjective'] / len(tokens)\n",
        "      if 'Noun' in data.columns:\n",
        "        data.at[idx, 'Noun'] = data.at[idx, 'Noun'] / len(tokens)\n",
        "      if 'Adverb' in data.columns:\n",
        "        data.at[idx, 'Adverb'] = data.at[idx, 'Adverb'] / len(tokens)\n",
        "      if 'Verb' in data.columns:\n",
        "        data.at[idx, 'Verb'] = data.at[idx, 'Verb'] / len(tokens)       \n",
        "      tree = parser.parse(req)\n",
        "      if 'TreeHeight' in data.columns:\n",
        "        data.at[idx, 'TreeHeight'] = tree.height()\n",
        "      if 'SubTrees' in data.columns:\n",
        "        data.at[idx, 'SubTrees'] = len(tree)\n",
        "      idx = idx + 1    \n",
        "\n",
        "  print(data.head())"
      ],
      "execution_count": 0,
      "outputs": []
    },
    {
      "cell_type": "code",
      "metadata": {
        "id": "C9cYs59nXgIe",
        "colab_type": "code",
        "colab": {}
      },
      "source": [
        "from nltk.util import ngrams\n",
        "from collections import Counter\n",
        "from sklearn.feature_extraction import stop_words\n",
        "from nltk.stem import WordNetLemmatizer\n",
        "\n",
        "def enrich_ngram(data, file, target, nrfeat):\n",
        "  bigrams = []\n",
        "  trigrams = []\n",
        "  frequencies = Counter([])\n",
        "  frequencies2 = Counter([])\n",
        "  frequencies3 = Counter([])\n",
        "  pfrequencies = Counter([])\n",
        "  pfrequencies2 = Counter([])\n",
        "  pfrequencies3 = Counter([])\n",
        "\n",
        "  wn_lemmatizer = WordNetLemmatizer()\n",
        "\n",
        "  # Generation of [1, 2, 3] textgrams, [1, 2, 3] POSgrams\n",
        "  for req in tqdm(data['RequirementText'], desc='n-grams generation', position=0):\n",
        "      token = tokenizer.tokenize(req)\n",
        "      token = [word.lower() for word in token]\n",
        "      tags = nltk.pos_tag(token)\n",
        "      token = [w for w in token if not w in stop_words.ENGLISH_STOP_WORDS]\n",
        "      token = [wn_lemmatizer.lemmatize(w) for w in token]\n",
        "      frequencies += Counter(token)\n",
        "      bigrams = ngrams(token,2)\n",
        "      trigrams = ngrams(token,3)\n",
        "      frequencies2 += Counter(bigrams)\n",
        "      frequencies3 += Counter(trigrams)\n",
        "      punigrams = [tag for (word, tag) in tags]\n",
        "      pfrequencies += Counter(punigrams)\n",
        "      pbigrams = ngrams([tag for (word, tag) in tags], 2)\n",
        "      pfrequencies2 += Counter(pbigrams)\n",
        "      ptrigrams = ngrams([tag for (word, tag) in tags], 3)\n",
        "      pfrequencies3 += Counter(ptrigrams)\n",
        "\n",
        "  #print (len(frequencies), len(frequencies2), len(frequencies3), len(pfrequencies), len(pfrequencies2), len(pfrequencies3))\n",
        "\n",
        "  # Populating the n-grams\n",
        "  idx = 0\n",
        "  for req in tqdm(data['RequirementText'], desc='n-grams population', position=0):\n",
        "      token = tokenizer.tokenize(req)\n",
        "\n",
        "      for t in token:\n",
        "        exists = [col for col in data.columns if col == str('_' + t + '_')]\n",
        "        if exists != []:\n",
        "          data.at[idx, exists] = 1\n",
        "\n",
        "      bigrams = ngrams(token,2)\n",
        "      for bg in bigrams:\n",
        "        exists = [col for col in data.columns if col == str('_' + bg[0] + '_' + bg[1] + '_')]\n",
        "        if exists != []:\n",
        "          data.at[idx, exists] = 1\n",
        "\n",
        "      trigrams = ngrams(token,3)\n",
        "      for tg in trigrams:\n",
        "        exists = [col for col in data.columns if col == str('_' + tg[0] + '_' + tg[1] + '_' + tg[2] + '_')]\n",
        "        if exists != []:\n",
        "          data.at[idx, exists] = 1\n",
        "\n",
        "      tags = nltk.pos_tag(token)\n",
        "\n",
        "      for t in tags:\n",
        "        exists = [col for col in data.columns if col == str(t)]\n",
        "        if exists != []:\n",
        "          data.at[idx, exists] = 1\n",
        "\n",
        "      pbigrams = ngrams([tag for (word, tag) in tags], 2)\n",
        "      for bg in pbigrams:\n",
        "        exists = [col for col in data.columns if col == str(bg[0] + '_' + bg[1])]\n",
        "        if exists != []:\n",
        "          data.at[idx, exists] = 1\n",
        "\n",
        "      ptrigrams = ngrams([tag for (word, tag) in tags], 3)\n",
        "      for tg in ptrigrams:\n",
        "        exists = [col for col in data.columns if col == str(tg[0] + '_' + tg[1] + '_' + tg[2])]\n",
        "        if exists != []:\n",
        "          data.at[idx, exists] = 1\n",
        "\n",
        "      idx = idx + 1\n",
        "\n",
        "  data = data.fillna(0.0)\n",
        "\n",
        "  # for column in data.columns:\n",
        "  #   if data[column].isnull().sum()==len(data):\n",
        "  #     data[column] = 0.0\n",
        "\n",
        "  data.columns = data.columns.map(str)\n",
        "\n",
        "  print (data.head())\n",
        "\n",
        "  # The new enriched dataset is now saved\n",
        "  data.to_csv(file + '-tagged-' + str(nrfeat) + '-' + target + '.csv', encoding='utf-8')"
      ],
      "execution_count": 0,
      "outputs": []
    },
    {
      "cell_type": "code",
      "metadata": {
        "id": "PfcZA9gj1Kuf",
        "colab_type": "code",
        "colab": {}
      },
      "source": [
        "def enrich_dataset(file, target, nrfeat, data):\n",
        "  data = data[0:0]\n",
        "\n",
        "  # Take the new dataset\n",
        "\n",
        "  data2 = pd.read_csv(file + '.csv', engine='python')\n",
        "  data['RequirementText'] = data2['RequirementText']\n",
        "  data['ProjectID'] = 1\n",
        "  data['Class'] = 'F'\n",
        "  if target == 'q' or target == 'f':\n",
        "    data['IsFunctional'] = data2['IsFunctional']\n",
        "    data['IsQuality'] = data2['IsQuality']\n",
        "\n",
        "  if target == 'oq':\n",
        "    data['OnlyQuality'] = ~data2['IsFunctional'] & data2['IsQuality']\n",
        "\n",
        "  if target == 'of':\n",
        "    data['OnlyFunctional'] = data2['IsFunctional'] & ~data2['IsQuality']\n",
        "\n",
        "\n",
        "  data = data.drop(data.columns[0], axis=1)\n",
        "\n",
        "  print (data.head())\n",
        "\n",
        "  enrich_ling(data)\n",
        "  enrich_ngram(data, file, target, nrfeat)"
      ],
      "execution_count": 0,
      "outputs": []
    },
    {
      "cell_type": "markdown",
      "metadata": {
        "id": "5O8ArruqXgHv",
        "colab_type": "text"
      },
      "source": [
        "## 3. Main file\n",
        "\n",
        "Imports the enriched data set and the new dataset, then invokes the other functions"
      ]
    },
    {
      "cell_type": "code",
      "metadata": {
        "id": "J7jMWl49XgHy",
        "colab_type": "code",
        "outputId": "57646ce1-7ff8-445a-c577-0bc7f8dbffb9",
        "colab": {
          "base_uri": "https://localhost:8080/",
          "height": 1000
        }
      },
      "source": [
        "# Define the files that you want to process here.  \n",
        "source_folder = './'\n",
        "filename = ['dronology', 'ds2', 'ds3', 'reqview', 'wasp', 'leeds', 'esa-eucl-est'] #the datasets to enrich\n",
        "target_type = ['f', 'q', 'of', 'oq'] #the target class for the classification (different classes have different top_n features)\n",
        "top_n_feat = 100\n",
        "\n",
        "for f in filename:\n",
        "  for t in target_type:\n",
        "    # Loading the originally enriched PROMISE data set\n",
        "    data = pd.read_csv(source_folder+'promise-km-' + str(top_n_feat) + '-' + t + '.csv', engine='python')\n",
        "    # enrich the new one\n",
        "    enrich_dataset(file=source_folder+f, target=t, nrfeat=top_n_feat, data=data)"
      ],
      "execution_count": 0,
      "outputs": [
        {
          "output_type": "stream",
          "text": [
            "/usr/local/lib/python3.6/dist-packages/ipykernel_launcher.py:7: SettingWithCopyWarning: \n",
            "A value is trying to be set on a copy of a slice from a DataFrame.\n",
            "Try using .loc[row_indexer,col_indexer] = value instead\n",
            "\n",
            "See the caveats in the documentation: http://pandas.pydata.org/pandas-docs/stable/indexing.html#indexing-view-versus-copy\n",
            "  import sys\n",
            "/usr/local/lib/python3.6/dist-packages/ipykernel_launcher.py:8: SettingWithCopyWarning: \n",
            "A value is trying to be set on a copy of a slice from a DataFrame.\n",
            "Try using .loc[row_indexer,col_indexer] = value instead\n",
            "\n",
            "See the caveats in the documentation: http://pandas.pydata.org/pandas-docs/stable/indexing.html#indexing-view-versus-copy\n",
            "  \n",
            "/usr/local/lib/python3.6/dist-packages/ipykernel_launcher.py:9: SettingWithCopyWarning: \n",
            "A value is trying to be set on a copy of a slice from a DataFrame.\n",
            "Try using .loc[row_indexer,col_indexer] = value instead\n",
            "\n",
            "See the caveats in the documentation: http://pandas.pydata.org/pandas-docs/stable/indexing.html#indexing-view-versus-copy\n",
            "  if __name__ == '__main__':\n",
            "/usr/local/lib/python3.6/dist-packages/ipykernel_launcher.py:11: SettingWithCopyWarning: \n",
            "A value is trying to be set on a copy of a slice from a DataFrame.\n",
            "Try using .loc[row_indexer,col_indexer] = value instead\n",
            "\n",
            "See the caveats in the documentation: http://pandas.pydata.org/pandas-docs/stable/indexing.html#indexing-view-versus-copy\n",
            "  # This is added back by InteractiveShellApp.init_path()\n",
            "/usr/local/lib/python3.6/dist-packages/ipykernel_launcher.py:12: SettingWithCopyWarning: \n",
            "A value is trying to be set on a copy of a slice from a DataFrame.\n",
            "Try using .loc[row_indexer,col_indexer] = value instead\n",
            "\n",
            "See the caveats in the documentation: http://pandas.pydata.org/pandas-docs/stable/indexing.html#indexing-view-versus-copy\n",
            "  if sys.path[0] == '':\n"
          ],
          "name": "stderr"
        },
        {
          "output_type": "stream",
          "text": [
            "   CD_IN  _use_  VB_DT  MD_VB_DT  ...  ProjectID  Class  IsQuality  IsFunctional\n",
            "0    NaN    NaN    NaN       NaN  ...          1      F          1             1\n",
            "1    NaN    NaN    NaN       NaN  ...          1      F          1             1\n",
            "2    NaN    NaN    NaN       NaN  ...          1      F          0             1\n",
            "3    NaN    NaN    NaN       NaN  ...          1      F          0             1\n",
            "4    NaN    NaN    NaN       NaN  ...          1      F          0             1\n",
            "\n",
            "[5 rows x 105 columns]\n"
          ],
          "name": "stdout"
        },
        {
          "output_type": "stream",
          "text": [
            "WARNING: Logging before flag parsing goes to stderr.\n",
            "W0627 16:33:14.069756 139935804311424 deprecation_wrapper.py:119] From /usr/local/lib/python3.6/dist-packages/benepar/base_parser.py:197: The name tf.GraphDef is deprecated. Please use tf.compat.v1.GraphDef instead.\n",
            "\n",
            "W0627 16:33:15.875402 139935804311424 deprecation_wrapper.py:119] From /usr/local/lib/python3.6/dist-packages/benepar/base_parser.py:202: The name tf.Session is deprecated. Please use tf.compat.v1.Session instead.\n",
            "\n",
            "Parse trees: 100%|██████████| 97/97 [00:22<00:00,  4.98it/s]\n",
            "n-grams generation:   0%|          | 0/97 [00:00<?, ?it/s]"
          ],
          "name": "stderr"
        },
        {
          "output_type": "stream",
          "text": [
            "   CD_IN  _use_  VB_DT  MD_VB_DT  ...  ProjectID  Class  IsQuality  IsFunctional\n",
            "0    NaN    NaN    NaN       NaN  ...          1      F          1             1\n",
            "1    NaN    NaN    NaN       NaN  ...          1      F          1             1\n",
            "2    NaN    NaN    NaN       NaN  ...          1      F          0             1\n",
            "3    NaN    NaN    NaN       NaN  ...          1      F          0             1\n",
            "4    NaN    NaN    NaN       NaN  ...          1      F          0             1\n",
            "\n",
            "[5 rows x 105 columns]\n"
          ],
          "name": "stdout"
        },
        {
          "output_type": "stream",
          "text": [
            "n-grams generation: 100%|██████████| 97/97 [00:01<00:00, 55.65it/s]\n",
            "n-grams population: 100%|██████████| 97/97 [00:00<00:00, 108.61it/s]\n"
          ],
          "name": "stderr"
        },
        {
          "output_type": "stream",
          "text": [
            "   CD_IN  _use_  VB_DT  MD_VB_DT  ...  ProjectID  Class  IsQuality  IsFunctional\n",
            "0    0.0    0.0    0.0       0.0  ...          1      F          1             1\n",
            "1    0.0    0.0    0.0       0.0  ...          1      F          1             1\n",
            "2    0.0    0.0    1.0       1.0  ...          1      F          0             1\n",
            "3    0.0    0.0    1.0       1.0  ...          1      F          0             1\n",
            "4    0.0    0.0    0.0       0.0  ...          1      F          0             1\n",
            "\n",
            "[5 rows x 105 columns]\n",
            "   CD_IN  MD_VB_DT  _allow_  ...  Class  IsQuality  IsFunctional\n",
            "0    NaN       NaN      NaN  ...      F          1             1\n",
            "1    NaN       NaN      NaN  ...      F          1             1\n",
            "2    NaN       NaN      NaN  ...      F          0             1\n",
            "3    NaN       NaN      NaN  ...      F          0             1\n",
            "4    NaN       NaN      NaN  ...      F          0             1\n",
            "\n",
            "[5 rows x 105 columns]\n"
          ],
          "name": "stdout"
        },
        {
          "output_type": "stream",
          "text": [
            "Parse trees: 100%|██████████| 97/97 [00:21<00:00,  5.41it/s]\n",
            "n-grams generation: 100%|██████████| 97/97 [00:00<00:00, 1054.69it/s]\n",
            "n-grams population:  14%|█▍        | 14/97 [00:00<00:00, 135.79it/s]"
          ],
          "name": "stderr"
        },
        {
          "output_type": "stream",
          "text": [
            "   CD_IN  MD_VB_DT  _allow_  ...  Class  IsQuality  IsFunctional\n",
            "0    NaN       NaN      NaN  ...      F          1             1\n",
            "1    NaN       NaN      NaN  ...      F          1             1\n",
            "2    NaN       NaN      NaN  ...      F          0             1\n",
            "3    NaN       NaN      NaN  ...      F          0             1\n",
            "4    NaN       NaN      NaN  ...      F          0             1\n",
            "\n",
            "[5 rows x 105 columns]\n"
          ],
          "name": "stdout"
        },
        {
          "output_type": "stream",
          "text": [
            "n-grams population: 100%|██████████| 97/97 [00:00<00:00, 118.90it/s]\n"
          ],
          "name": "stderr"
        },
        {
          "output_type": "stream",
          "text": [
            "   CD_IN  MD_VB_DT  _allow_  ...  Class  IsQuality  IsFunctional\n",
            "0    0.0       0.0      0.0  ...      F          1             1\n",
            "1    0.0       0.0      0.0  ...      F          1             1\n",
            "2    0.0       1.0      0.0  ...      F          0             1\n",
            "3    0.0       1.0      0.0  ...      F          0             1\n",
            "4    0.0       0.0      0.0  ...      F          0             1\n",
            "\n",
            "[5 rows x 105 columns]\n"
          ],
          "name": "stdout"
        },
        {
          "output_type": "stream",
          "text": [
            "/usr/local/lib/python3.6/dist-packages/ipykernel_launcher.py:18: SettingWithCopyWarning: \n",
            "A value is trying to be set on a copy of a slice from a DataFrame.\n",
            "Try using .loc[row_indexer,col_indexer] = value instead\n",
            "\n",
            "See the caveats in the documentation: http://pandas.pydata.org/pandas-docs/stable/indexing.html#indexing-view-versus-copy\n"
          ],
          "name": "stderr"
        },
        {
          "output_type": "stream",
          "text": [
            "   CD_IN  IN_CD  MD_VB_DT  _allow_  ...  ProjectID  Class  IsQuality  OnlyFunctional\n",
            "0    NaN    NaN       NaN      NaN  ...          1      F        NaN               0\n",
            "1    NaN    NaN       NaN      NaN  ...          1      F        NaN               0\n",
            "2    NaN    NaN       NaN      NaN  ...          1      F        NaN               1\n",
            "3    NaN    NaN       NaN      NaN  ...          1      F        NaN               1\n",
            "4    NaN    NaN       NaN      NaN  ...          1      F        NaN               1\n",
            "\n",
            "[5 rows x 105 columns]\n"
          ],
          "name": "stdout"
        },
        {
          "output_type": "stream",
          "text": [
            "Parse trees: 100%|██████████| 97/97 [00:21<00:00,  5.44it/s]\n",
            "n-grams generation: 100%|██████████| 97/97 [00:00<00:00, 1012.63it/s]\n",
            "n-grams population:   0%|          | 0/97 [00:00<?, ?it/s]"
          ],
          "name": "stderr"
        },
        {
          "output_type": "stream",
          "text": [
            "   CD_IN  IN_CD  MD_VB_DT  _allow_  ...  ProjectID  Class  IsQuality  OnlyFunctional\n",
            "0    NaN    NaN       NaN      NaN  ...          1      F        NaN               0\n",
            "1    NaN    NaN       NaN      NaN  ...          1      F        NaN               0\n",
            "2    NaN    NaN       NaN      NaN  ...          1      F        NaN               1\n",
            "3    NaN    NaN       NaN      NaN  ...          1      F        NaN               1\n",
            "4    NaN    NaN       NaN      NaN  ...          1      F        NaN               1\n",
            "\n",
            "[5 rows x 105 columns]\n"
          ],
          "name": "stdout"
        },
        {
          "output_type": "stream",
          "text": [
            "n-grams population: 100%|██████████| 97/97 [00:00<00:00, 109.52it/s]\n"
          ],
          "name": "stderr"
        },
        {
          "output_type": "stream",
          "text": [
            "   CD_IN  IN_CD  MD_VB_DT  _allow_  ...  ProjectID  Class  IsQuality  OnlyFunctional\n",
            "0    0.0    0.0       0.0      0.0  ...          1      F        0.0               0\n",
            "1    0.0    0.0       0.0      0.0  ...          1      F        0.0               0\n",
            "2    0.0    0.0       1.0      0.0  ...          1      F        0.0               1\n",
            "3    0.0    0.0       1.0      0.0  ...          1      F        0.0               1\n",
            "4    0.0    0.0       0.0      0.0  ...          1      F        0.0               1\n",
            "\n",
            "[5 rows x 105 columns]\n"
          ],
          "name": "stdout"
        },
        {
          "output_type": "stream",
          "text": [
            "/usr/local/lib/python3.6/dist-packages/ipykernel_launcher.py:15: SettingWithCopyWarning: \n",
            "A value is trying to be set on a copy of a slice from a DataFrame.\n",
            "Try using .loc[row_indexer,col_indexer] = value instead\n",
            "\n",
            "See the caveats in the documentation: http://pandas.pydata.org/pandas-docs/stable/indexing.html#indexing-view-versus-copy\n",
            "  from ipykernel import kernelapp as app\n"
          ],
          "name": "stderr"
        },
        {
          "output_type": "stream",
          "text": [
            "   CD_IN  VB_DT  _use_  _allow_  ...  ProjectID  Class  OnlyQuality  IsFunctional\n",
            "0    NaN    NaN    NaN      NaN  ...          1      F            0           NaN\n",
            "1    NaN    NaN    NaN      NaN  ...          1      F            0           NaN\n",
            "2    NaN    NaN    NaN      NaN  ...          1      F            0           NaN\n",
            "3    NaN    NaN    NaN      NaN  ...          1      F            0           NaN\n",
            "4    NaN    NaN    NaN      NaN  ...          1      F            0           NaN\n",
            "\n",
            "[5 rows x 105 columns]\n"
          ],
          "name": "stdout"
        },
        {
          "output_type": "stream",
          "text": [
            "Parse trees: 100%|██████████| 97/97 [00:20<00:00,  5.56it/s]\n",
            "n-grams generation: 100%|██████████| 97/97 [00:00<00:00, 1024.59it/s]\n",
            "n-grams population:   0%|          | 0/97 [00:00<?, ?it/s]"
          ],
          "name": "stderr"
        },
        {
          "output_type": "stream",
          "text": [
            "   CD_IN  VB_DT  _use_  _allow_  ...  ProjectID  Class  OnlyQuality  IsFunctional\n",
            "0    NaN    NaN    NaN      NaN  ...          1      F            0           NaN\n",
            "1    NaN    NaN    NaN      NaN  ...          1      F            0           NaN\n",
            "2    NaN    NaN    NaN      NaN  ...          1      F            0           NaN\n",
            "3    NaN    NaN    NaN      NaN  ...          1      F            0           NaN\n",
            "4    NaN    NaN    NaN      NaN  ...          1      F            0           NaN\n",
            "\n",
            "[5 rows x 105 columns]\n"
          ],
          "name": "stdout"
        },
        {
          "output_type": "stream",
          "text": [
            "n-grams population: 100%|██████████| 97/97 [00:00<00:00, 105.29it/s]\n"
          ],
          "name": "stderr"
        },
        {
          "output_type": "stream",
          "text": [
            "   CD_IN  VB_DT  _use_  _allow_  ...  ProjectID  Class  OnlyQuality  IsFunctional\n",
            "0    0.0    0.0    0.0      0.0  ...          1      F            0           0.0\n",
            "1    0.0    0.0    0.0      0.0  ...          1      F            0           0.0\n",
            "2    0.0    1.0    0.0      0.0  ...          1      F            0           0.0\n",
            "3    0.0    1.0    0.0      0.0  ...          1      F            0           0.0\n",
            "4    0.0    0.0    0.0      0.0  ...          1      F            0           0.0\n",
            "\n",
            "[5 rows x 105 columns]\n",
            "   CD_IN  _use_  VB_DT  MD_VB_DT  ...  ProjectID  Class  IsQuality  IsFunctional\n",
            "0    NaN    NaN    NaN       NaN  ...          1      F          1             0\n",
            "1    NaN    NaN    NaN       NaN  ...          1      F          1             0\n",
            "2    NaN    NaN    NaN       NaN  ...          1      F          0             1\n",
            "3    NaN    NaN    NaN       NaN  ...          1      F          0             1\n",
            "4    NaN    NaN    NaN       NaN  ...          1      F          0             1\n",
            "\n",
            "[5 rows x 105 columns]\n"
          ],
          "name": "stdout"
        },
        {
          "output_type": "stream",
          "text": [
            "Parse trees: 100%|██████████| 172/172 [00:36<00:00,  5.16it/s]\n",
            "n-grams generation:  48%|████▊     | 82/172 [00:00<00:00, 815.57it/s]"
          ],
          "name": "stderr"
        },
        {
          "output_type": "stream",
          "text": [
            "   CD_IN  _use_  VB_DT  MD_VB_DT  ...  ProjectID  Class  IsQuality  IsFunctional\n",
            "0    NaN    NaN    NaN       NaN  ...          1      F          1             0\n",
            "1    NaN    NaN    NaN       NaN  ...          1      F          1             0\n",
            "2    NaN    NaN    NaN       NaN  ...          1      F          0             1\n",
            "3    NaN    NaN    NaN       NaN  ...          1      F          0             1\n",
            "4    NaN    NaN    NaN       NaN  ...          1      F          0             1\n",
            "\n",
            "[5 rows x 105 columns]\n"
          ],
          "name": "stdout"
        },
        {
          "output_type": "stream",
          "text": [
            "n-grams generation: 100%|██████████| 172/172 [00:00<00:00, 818.26it/s]\n",
            "n-grams population: 100%|██████████| 172/172 [00:02<00:00, 64.99it/s]\n"
          ],
          "name": "stderr"
        },
        {
          "output_type": "stream",
          "text": [
            "   CD_IN  _use_  VB_DT  MD_VB_DT  ...  ProjectID  Class  IsQuality  IsFunctional\n",
            "0    0.0    0.0    1.0       1.0  ...          1      F          1             0\n",
            "1    0.0    0.0    1.0       0.0  ...          1      F          1             0\n",
            "2    0.0    0.0    1.0       1.0  ...          1      F          0             1\n",
            "3    0.0    0.0    1.0       1.0  ...          1      F          0             1\n",
            "4    0.0    0.0    1.0       1.0  ...          1      F          0             1\n",
            "\n",
            "[5 rows x 105 columns]\n",
            "   CD_IN  MD_VB_DT  _allow_  ...  Class  IsQuality  IsFunctional\n",
            "0    NaN       NaN      NaN  ...      F          1             0\n",
            "1    NaN       NaN      NaN  ...      F          1             0\n",
            "2    NaN       NaN      NaN  ...      F          0             1\n",
            "3    NaN       NaN      NaN  ...      F          0             1\n",
            "4    NaN       NaN      NaN  ...      F          0             1\n",
            "\n",
            "[5 rows x 105 columns]\n"
          ],
          "name": "stdout"
        },
        {
          "output_type": "stream",
          "text": [
            "Parse trees: 100%|██████████| 172/172 [00:36<00:00,  5.15it/s]\n",
            "n-grams generation:  48%|████▊     | 83/172 [00:00<00:00, 828.99it/s]"
          ],
          "name": "stderr"
        },
        {
          "output_type": "stream",
          "text": [
            "   CD_IN  MD_VB_DT  _allow_  ...  Class  IsQuality  IsFunctional\n",
            "0    NaN       NaN      NaN  ...      F          1             0\n",
            "1    NaN       NaN      NaN  ...      F          1             0\n",
            "2    NaN       NaN      NaN  ...      F          0             1\n",
            "3    NaN       NaN      NaN  ...      F          0             1\n",
            "4    NaN       NaN      NaN  ...      F          0             1\n",
            "\n",
            "[5 rows x 105 columns]\n"
          ],
          "name": "stdout"
        },
        {
          "output_type": "stream",
          "text": [
            "n-grams generation: 100%|██████████| 172/172 [00:00<00:00, 833.36it/s]\n",
            "n-grams population: 100%|██████████| 172/172 [00:02<00:00, 69.80it/s]\n"
          ],
          "name": "stderr"
        },
        {
          "output_type": "stream",
          "text": [
            "   CD_IN  MD_VB_DT  _allow_  ...  Class  IsQuality  IsFunctional\n",
            "0    0.0       1.0      0.0  ...      F          1             0\n",
            "1    0.0       0.0      0.0  ...      F          1             0\n",
            "2    0.0       1.0      0.0  ...      F          0             1\n",
            "3    0.0       1.0      0.0  ...      F          0             1\n",
            "4    0.0       1.0      0.0  ...      F          0             1\n",
            "\n",
            "[5 rows x 105 columns]\n",
            "   CD_IN  IN_CD  MD_VB_DT  _allow_  ...  ProjectID  Class  IsQuality  OnlyFunctional\n",
            "0    NaN    NaN       NaN      NaN  ...          1      F        NaN               0\n",
            "1    NaN    NaN       NaN      NaN  ...          1      F        NaN               0\n",
            "2    NaN    NaN       NaN      NaN  ...          1      F        NaN               1\n",
            "3    NaN    NaN       NaN      NaN  ...          1      F        NaN               1\n",
            "4    NaN    NaN       NaN      NaN  ...          1      F        NaN               1\n",
            "\n",
            "[5 rows x 105 columns]\n"
          ],
          "name": "stdout"
        },
        {
          "output_type": "stream",
          "text": [
            "Parse trees: 100%|██████████| 172/172 [00:35<00:00,  5.13it/s]\n",
            "n-grams generation:  48%|████▊     | 83/172 [00:00<00:00, 821.51it/s]"
          ],
          "name": "stderr"
        },
        {
          "output_type": "stream",
          "text": [
            "   CD_IN  IN_CD  MD_VB_DT  _allow_  ...  ProjectID  Class  IsQuality  OnlyFunctional\n",
            "0    NaN    NaN       NaN      NaN  ...          1      F        NaN               0\n",
            "1    NaN    NaN       NaN      NaN  ...          1      F        NaN               0\n",
            "2    NaN    NaN       NaN      NaN  ...          1      F        NaN               1\n",
            "3    NaN    NaN       NaN      NaN  ...          1      F        NaN               1\n",
            "4    NaN    NaN       NaN      NaN  ...          1      F        NaN               1\n",
            "\n",
            "[5 rows x 105 columns]\n"
          ],
          "name": "stdout"
        },
        {
          "output_type": "stream",
          "text": [
            "n-grams generation: 100%|██████████| 172/172 [00:00<00:00, 815.19it/s]\n",
            "n-grams population: 100%|██████████| 172/172 [00:02<00:00, 62.87it/s]\n"
          ],
          "name": "stderr"
        },
        {
          "output_type": "stream",
          "text": [
            "   CD_IN  IN_CD  MD_VB_DT  _allow_  ...  ProjectID  Class  IsQuality  OnlyFunctional\n",
            "0    0.0    0.0       1.0      0.0  ...          1      F        0.0               0\n",
            "1    0.0    0.0       0.0      0.0  ...          1      F        0.0               0\n",
            "2    0.0    0.0       1.0      0.0  ...          1      F        0.0               1\n",
            "3    0.0    0.0       1.0      0.0  ...          1      F        0.0               1\n",
            "4    0.0    0.0       1.0      0.0  ...          1      F        0.0               1\n",
            "\n",
            "[5 rows x 105 columns]\n",
            "   CD_IN  VB_DT  _use_  _allow_  ...  ProjectID  Class  OnlyQuality  IsFunctional\n",
            "0    NaN    NaN    NaN      NaN  ...          1      F            1           NaN\n",
            "1    NaN    NaN    NaN      NaN  ...          1      F            1           NaN\n",
            "2    NaN    NaN    NaN      NaN  ...          1      F            0           NaN\n",
            "3    NaN    NaN    NaN      NaN  ...          1      F            0           NaN\n",
            "4    NaN    NaN    NaN      NaN  ...          1      F            0           NaN\n",
            "\n",
            "[5 rows x 105 columns]\n"
          ],
          "name": "stdout"
        },
        {
          "output_type": "stream",
          "text": [
            "Parse trees: 100%|██████████| 172/172 [00:35<00:00,  5.21it/s]\n",
            "n-grams generation:  48%|████▊     | 83/172 [00:00<00:00, 829.08it/s]"
          ],
          "name": "stderr"
        },
        {
          "output_type": "stream",
          "text": [
            "   CD_IN  VB_DT  _use_  _allow_  ...  ProjectID  Class  OnlyQuality  IsFunctional\n",
            "0    NaN    NaN    NaN      NaN  ...          1      F            1           NaN\n",
            "1    NaN    NaN    NaN      NaN  ...          1      F            1           NaN\n",
            "2    NaN    NaN    NaN      NaN  ...          1      F            0           NaN\n",
            "3    NaN    NaN    NaN      NaN  ...          1      F            0           NaN\n",
            "4    NaN    NaN    NaN      NaN  ...          1      F            0           NaN\n",
            "\n",
            "[5 rows x 105 columns]\n"
          ],
          "name": "stdout"
        },
        {
          "output_type": "stream",
          "text": [
            "n-grams generation: 100%|██████████| 172/172 [00:00<00:00, 842.33it/s]\n",
            "n-grams population: 100%|██████████| 172/172 [00:02<00:00, 72.04it/s]\n"
          ],
          "name": "stderr"
        },
        {
          "output_type": "stream",
          "text": [
            "   CD_IN  VB_DT  _use_  _allow_  ...  ProjectID  Class  OnlyQuality  IsFunctional\n",
            "0    0.0    1.0    0.0      0.0  ...          1      F            1           0.0\n",
            "1    0.0    1.0    0.0      0.0  ...          1      F            1           0.0\n",
            "2    0.0    1.0    0.0      0.0  ...          1      F            0           0.0\n",
            "3    0.0    1.0    0.0      0.0  ...          1      F            0           0.0\n",
            "4    0.0    1.0    0.0      0.0  ...          1      F            0           0.0\n",
            "\n",
            "[5 rows x 105 columns]\n",
            "   CD_IN  _use_  VB_DT  MD_VB_DT  ...  ProjectID  Class  IsQuality  IsFunctional\n",
            "0    NaN    NaN    NaN       NaN  ...          1      F          1             1\n",
            "1    NaN    NaN    NaN       NaN  ...          1      F          1             0\n",
            "2    NaN    NaN    NaN       NaN  ...          1      F          1             1\n",
            "3    NaN    NaN    NaN       NaN  ...          1      F          1             1\n",
            "4    NaN    NaN    NaN       NaN  ...          1      F          1             0\n",
            "\n",
            "[5 rows x 105 columns]\n"
          ],
          "name": "stdout"
        },
        {
          "output_type": "stream",
          "text": [
            "Parse trees: 100%|██████████| 138/138 [00:26<00:00,  6.28it/s]\n",
            "n-grams generation: 100%|██████████| 138/138 [00:00<00:00, 1152.13it/s]\n",
            "n-grams population:   0%|          | 0/138 [00:00<?, ?it/s]"
          ],
          "name": "stderr"
        },
        {
          "output_type": "stream",
          "text": [
            "   CD_IN  _use_  VB_DT  MD_VB_DT  ...  ProjectID  Class  IsQuality  IsFunctional\n",
            "0    NaN    NaN    NaN       NaN  ...          1      F          1             1\n",
            "1    NaN    NaN    NaN       NaN  ...          1      F          1             0\n",
            "2    NaN    NaN    NaN       NaN  ...          1      F          1             1\n",
            "3    NaN    NaN    NaN       NaN  ...          1      F          1             1\n",
            "4    NaN    NaN    NaN       NaN  ...          1      F          1             0\n",
            "\n",
            "[5 rows x 105 columns]\n"
          ],
          "name": "stdout"
        },
        {
          "output_type": "stream",
          "text": [
            "n-grams population: 100%|██████████| 138/138 [00:01<00:00, 103.51it/s]\n"
          ],
          "name": "stderr"
        },
        {
          "output_type": "stream",
          "text": [
            "   CD_IN  _use_  VB_DT  MD_VB_DT  ...  ProjectID  Class  IsQuality  IsFunctional\n",
            "0    0.0    0.0    1.0       1.0  ...          1      F          1             1\n",
            "1    0.0    0.0    0.0       0.0  ...          1      F          1             0\n",
            "2    0.0    0.0    0.0       0.0  ...          1      F          1             1\n",
            "3    0.0    0.0    0.0       0.0  ...          1      F          1             1\n",
            "4    0.0    0.0    0.0       0.0  ...          1      F          1             0\n",
            "\n",
            "[5 rows x 105 columns]\n",
            "   CD_IN  MD_VB_DT  _allow_  ...  Class  IsQuality  IsFunctional\n",
            "0    NaN       NaN      NaN  ...      F          1             1\n",
            "1    NaN       NaN      NaN  ...      F          1             0\n",
            "2    NaN       NaN      NaN  ...      F          1             1\n",
            "3    NaN       NaN      NaN  ...      F          1             1\n",
            "4    NaN       NaN      NaN  ...      F          1             0\n",
            "\n",
            "[5 rows x 105 columns]\n"
          ],
          "name": "stdout"
        },
        {
          "output_type": "stream",
          "text": [
            "Parse trees: 100%|██████████| 138/138 [00:26<00:00,  6.30it/s]\n",
            "n-grams generation: 100%|██████████| 138/138 [00:00<00:00, 1132.55it/s]\n",
            "n-grams population:   0%|          | 0/138 [00:00<?, ?it/s]"
          ],
          "name": "stderr"
        },
        {
          "output_type": "stream",
          "text": [
            "   CD_IN  MD_VB_DT  _allow_  ...  Class  IsQuality  IsFunctional\n",
            "0    NaN       NaN      NaN  ...      F          1             1\n",
            "1    NaN       NaN      NaN  ...      F          1             0\n",
            "2    NaN       NaN      NaN  ...      F          1             1\n",
            "3    NaN       NaN      NaN  ...      F          1             1\n",
            "4    NaN       NaN      NaN  ...      F          1             0\n",
            "\n",
            "[5 rows x 105 columns]\n"
          ],
          "name": "stdout"
        },
        {
          "output_type": "stream",
          "text": [
            "n-grams population: 100%|██████████| 138/138 [00:01<00:00, 118.97it/s]\n"
          ],
          "name": "stderr"
        },
        {
          "output_type": "stream",
          "text": [
            "   CD_IN  MD_VB_DT  _allow_  ...  Class  IsQuality  IsFunctional\n",
            "0    0.0       1.0      0.0  ...      F          1             1\n",
            "1    0.0       0.0      0.0  ...      F          1             0\n",
            "2    0.0       0.0      0.0  ...      F          1             1\n",
            "3    0.0       0.0      0.0  ...      F          1             1\n",
            "4    0.0       0.0      0.0  ...      F          1             0\n",
            "\n",
            "[5 rows x 105 columns]\n",
            "   CD_IN  IN_CD  MD_VB_DT  _allow_  ...  ProjectID  Class  IsQuality  OnlyFunctional\n",
            "0    NaN    NaN       NaN      NaN  ...          1      F        NaN               0\n",
            "1    NaN    NaN       NaN      NaN  ...          1      F        NaN               0\n",
            "2    NaN    NaN       NaN      NaN  ...          1      F        NaN               0\n",
            "3    NaN    NaN       NaN      NaN  ...          1      F        NaN               0\n",
            "4    NaN    NaN       NaN      NaN  ...          1      F        NaN               0\n",
            "\n",
            "[5 rows x 105 columns]\n"
          ],
          "name": "stdout"
        },
        {
          "output_type": "stream",
          "text": [
            "Parse trees: 100%|██████████| 138/138 [00:26<00:00,  6.36it/s]\n",
            "n-grams generation: 100%|██████████| 138/138 [00:00<00:00, 1153.55it/s]\n",
            "n-grams population:   0%|          | 0/138 [00:00<?, ?it/s]"
          ],
          "name": "stderr"
        },
        {
          "output_type": "stream",
          "text": [
            "   CD_IN  IN_CD  MD_VB_DT  _allow_  ...  ProjectID  Class  IsQuality  OnlyFunctional\n",
            "0    NaN    NaN       NaN      NaN  ...          1      F        NaN               0\n",
            "1    NaN    NaN       NaN      NaN  ...          1      F        NaN               0\n",
            "2    NaN    NaN       NaN      NaN  ...          1      F        NaN               0\n",
            "3    NaN    NaN       NaN      NaN  ...          1      F        NaN               0\n",
            "4    NaN    NaN       NaN      NaN  ...          1      F        NaN               0\n",
            "\n",
            "[5 rows x 105 columns]\n"
          ],
          "name": "stdout"
        },
        {
          "output_type": "stream",
          "text": [
            "n-grams population: 100%|██████████| 138/138 [00:01<00:00, 103.71it/s]\n"
          ],
          "name": "stderr"
        },
        {
          "output_type": "stream",
          "text": [
            "   CD_IN  IN_CD  MD_VB_DT  _allow_  ...  ProjectID  Class  IsQuality  OnlyFunctional\n",
            "0    0.0    0.0       1.0      0.0  ...          1      F        0.0               0\n",
            "1    0.0    0.0       0.0      0.0  ...          1      F        0.0               0\n",
            "2    0.0    0.0       0.0      0.0  ...          1      F        0.0               0\n",
            "3    0.0    0.0       0.0      0.0  ...          1      F        0.0               0\n",
            "4    0.0    0.0       0.0      0.0  ...          1      F        0.0               0\n",
            "\n",
            "[5 rows x 105 columns]\n",
            "   CD_IN  VB_DT  _use_  _allow_  ...  ProjectID  Class  OnlyQuality  IsFunctional\n",
            "0    NaN    NaN    NaN      NaN  ...          1      F            0           NaN\n",
            "1    NaN    NaN    NaN      NaN  ...          1      F            1           NaN\n",
            "2    NaN    NaN    NaN      NaN  ...          1      F            0           NaN\n",
            "3    NaN    NaN    NaN      NaN  ...          1      F            0           NaN\n",
            "4    NaN    NaN    NaN      NaN  ...          1      F            1           NaN\n",
            "\n",
            "[5 rows x 105 columns]\n"
          ],
          "name": "stdout"
        },
        {
          "output_type": "stream",
          "text": [
            "Parse trees: 100%|██████████| 138/138 [00:26<00:00,  6.34it/s]\n",
            "n-grams generation: 100%|██████████| 138/138 [00:00<00:00, 1126.88it/s]\n",
            "n-grams population:   0%|          | 0/138 [00:00<?, ?it/s]"
          ],
          "name": "stderr"
        },
        {
          "output_type": "stream",
          "text": [
            "   CD_IN  VB_DT  _use_  _allow_  ...  ProjectID  Class  OnlyQuality  IsFunctional\n",
            "0    NaN    NaN    NaN      NaN  ...          1      F            0           NaN\n",
            "1    NaN    NaN    NaN      NaN  ...          1      F            1           NaN\n",
            "2    NaN    NaN    NaN      NaN  ...          1      F            0           NaN\n",
            "3    NaN    NaN    NaN      NaN  ...          1      F            0           NaN\n",
            "4    NaN    NaN    NaN      NaN  ...          1      F            1           NaN\n",
            "\n",
            "[5 rows x 105 columns]\n"
          ],
          "name": "stdout"
        },
        {
          "output_type": "stream",
          "text": [
            "n-grams population: 100%|██████████| 138/138 [00:01<00:00, 100.87it/s]\n"
          ],
          "name": "stderr"
        },
        {
          "output_type": "stream",
          "text": [
            "   CD_IN  VB_DT  _use_  _allow_  ...  ProjectID  Class  OnlyQuality  IsFunctional\n",
            "0    0.0    1.0    0.0      0.0  ...          1      F            0           0.0\n",
            "1    0.0    0.0    0.0      0.0  ...          1      F            1           0.0\n",
            "2    0.0    0.0    0.0      0.0  ...          1      F            0           0.0\n",
            "3    0.0    0.0    0.0      0.0  ...          1      F            0           0.0\n",
            "4    0.0    0.0    0.0      0.0  ...          1      F            1           0.0\n",
            "\n",
            "[5 rows x 105 columns]\n",
            "   CD_IN  _use_  VB_DT  MD_VB_DT  ...  ProjectID  Class  IsQuality  IsFunctional\n",
            "0    NaN    NaN    NaN       NaN  ...          1      F          1             0\n",
            "1    NaN    NaN    NaN       NaN  ...          1      F          1             0\n",
            "2    NaN    NaN    NaN       NaN  ...          1      F          1             1\n",
            "3    NaN    NaN    NaN       NaN  ...          1      F          1             0\n",
            "4    NaN    NaN    NaN       NaN  ...          1      F          0             1\n",
            "\n",
            "[5 rows x 105 columns]\n"
          ],
          "name": "stdout"
        },
        {
          "output_type": "stream",
          "text": [
            "Parse trees: 100%|██████████| 87/87 [00:17<00:00,  6.05it/s]\n",
            "n-grams generation: 100%|██████████| 87/87 [00:00<00:00, 990.55it/s]\n",
            "n-grams population:  13%|█▎        | 11/87 [00:00<00:00, 107.09it/s]"
          ],
          "name": "stderr"
        },
        {
          "output_type": "stream",
          "text": [
            "   CD_IN  _use_  VB_DT  MD_VB_DT  ...  ProjectID  Class  IsQuality  IsFunctional\n",
            "0    NaN    NaN    NaN       NaN  ...          1      F          1             0\n",
            "1    NaN    NaN    NaN       NaN  ...          1      F          1             0\n",
            "2    NaN    NaN    NaN       NaN  ...          1      F          1             1\n",
            "3    NaN    NaN    NaN       NaN  ...          1      F          1             0\n",
            "4    NaN    NaN    NaN       NaN  ...          1      F          0             1\n",
            "\n",
            "[5 rows x 105 columns]\n"
          ],
          "name": "stdout"
        },
        {
          "output_type": "stream",
          "text": [
            "n-grams population: 100%|██████████| 87/87 [00:00<00:00, 100.07it/s]\n"
          ],
          "name": "stderr"
        },
        {
          "output_type": "stream",
          "text": [
            "   CD_IN  _use_  VB_DT  MD_VB_DT  ...  ProjectID  Class  IsQuality  IsFunctional\n",
            "0    0.0    1.0    1.0       0.0  ...          1      F          1             0\n",
            "1    0.0    1.0    1.0       0.0  ...          1      F          1             0\n",
            "2    0.0    1.0    0.0       0.0  ...          1      F          1             1\n",
            "3    0.0    0.0    0.0       0.0  ...          1      F          1             0\n",
            "4    0.0    0.0    1.0       0.0  ...          1      F          0             1\n",
            "\n",
            "[5 rows x 105 columns]\n",
            "   CD_IN  MD_VB_DT  _allow_  ...  Class  IsQuality  IsFunctional\n",
            "0    NaN       NaN      NaN  ...      F          1             0\n",
            "1    NaN       NaN      NaN  ...      F          1             0\n",
            "2    NaN       NaN      NaN  ...      F          1             1\n",
            "3    NaN       NaN      NaN  ...      F          1             0\n",
            "4    NaN       NaN      NaN  ...      F          0             1\n",
            "\n",
            "[5 rows x 105 columns]\n"
          ],
          "name": "stdout"
        },
        {
          "output_type": "stream",
          "text": [
            "Parse trees: 100%|██████████| 87/87 [00:17<00:00,  5.97it/s]\n",
            "n-grams generation: 100%|██████████| 87/87 [00:00<00:00, 933.84it/s]\n",
            "n-grams population:   0%|          | 0/87 [00:00<?, ?it/s]"
          ],
          "name": "stderr"
        },
        {
          "output_type": "stream",
          "text": [
            "   CD_IN  MD_VB_DT  _allow_  ...  Class  IsQuality  IsFunctional\n",
            "0    NaN       NaN      NaN  ...      F          1             0\n",
            "1    NaN       NaN      NaN  ...      F          1             0\n",
            "2    NaN       NaN      NaN  ...      F          1             1\n",
            "3    NaN       NaN      NaN  ...      F          1             0\n",
            "4    NaN       NaN      NaN  ...      F          0             1\n",
            "\n",
            "[5 rows x 105 columns]\n"
          ],
          "name": "stdout"
        },
        {
          "output_type": "stream",
          "text": [
            "n-grams population: 100%|██████████| 87/87 [00:00<00:00, 122.32it/s]\n"
          ],
          "name": "stderr"
        },
        {
          "output_type": "stream",
          "text": [
            "   CD_IN  MD_VB_DT  _allow_  ...  Class  IsQuality  IsFunctional\n",
            "0    0.0       0.0      0.0  ...      F          1             0\n",
            "1    0.0       0.0      0.0  ...      F          1             0\n",
            "2    0.0       0.0      0.0  ...      F          1             1\n",
            "3    0.0       0.0      0.0  ...      F          1             0\n",
            "4    0.0       0.0      0.0  ...      F          0             1\n",
            "\n",
            "[5 rows x 105 columns]\n",
            "   CD_IN  IN_CD  MD_VB_DT  _allow_  ...  ProjectID  Class  IsQuality  OnlyFunctional\n",
            "0    NaN    NaN       NaN      NaN  ...          1      F        NaN               0\n",
            "1    NaN    NaN       NaN      NaN  ...          1      F        NaN               0\n",
            "2    NaN    NaN       NaN      NaN  ...          1      F        NaN               0\n",
            "3    NaN    NaN       NaN      NaN  ...          1      F        NaN               0\n",
            "4    NaN    NaN       NaN      NaN  ...          1      F        NaN               1\n",
            "\n",
            "[5 rows x 105 columns]\n"
          ],
          "name": "stdout"
        },
        {
          "output_type": "stream",
          "text": [
            "Parse trees: 100%|██████████| 87/87 [00:17<00:00,  6.01it/s]\n",
            "n-grams generation: 100%|██████████| 87/87 [00:00<00:00, 960.91it/s]\n",
            "n-grams population:  13%|█▎        | 11/87 [00:00<00:00, 109.08it/s]"
          ],
          "name": "stderr"
        },
        {
          "output_type": "stream",
          "text": [
            "   CD_IN  IN_CD  MD_VB_DT  _allow_  ...  ProjectID  Class  IsQuality  OnlyFunctional\n",
            "0    NaN    NaN       NaN      NaN  ...          1      F        NaN               0\n",
            "1    NaN    NaN       NaN      NaN  ...          1      F        NaN               0\n",
            "2    NaN    NaN       NaN      NaN  ...          1      F        NaN               0\n",
            "3    NaN    NaN       NaN      NaN  ...          1      F        NaN               0\n",
            "4    NaN    NaN       NaN      NaN  ...          1      F        NaN               1\n",
            "\n",
            "[5 rows x 105 columns]\n"
          ],
          "name": "stdout"
        },
        {
          "output_type": "stream",
          "text": [
            "n-grams population: 100%|██████████| 87/87 [00:00<00:00, 100.18it/s]\n"
          ],
          "name": "stderr"
        },
        {
          "output_type": "stream",
          "text": [
            "   CD_IN  IN_CD  MD_VB_DT  _allow_  ...  ProjectID  Class  IsQuality  OnlyFunctional\n",
            "0    0.0    0.0       0.0      0.0  ...          1      F        0.0               0\n",
            "1    0.0    0.0       0.0      0.0  ...          1      F        0.0               0\n",
            "2    0.0    0.0       0.0      0.0  ...          1      F        0.0               0\n",
            "3    0.0    0.0       0.0      0.0  ...          1      F        0.0               0\n",
            "4    0.0    0.0       0.0      0.0  ...          1      F        0.0               1\n",
            "\n",
            "[5 rows x 105 columns]\n",
            "   CD_IN  VB_DT  _use_  _allow_  ...  ProjectID  Class  OnlyQuality  IsFunctional\n",
            "0    NaN    NaN    NaN      NaN  ...          1      F            1           NaN\n",
            "1    NaN    NaN    NaN      NaN  ...          1      F            1           NaN\n",
            "2    NaN    NaN    NaN      NaN  ...          1      F            0           NaN\n",
            "3    NaN    NaN    NaN      NaN  ...          1      F            1           NaN\n",
            "4    NaN    NaN    NaN      NaN  ...          1      F            0           NaN\n",
            "\n",
            "[5 rows x 105 columns]\n"
          ],
          "name": "stdout"
        },
        {
          "output_type": "stream",
          "text": [
            "Parse trees: 100%|██████████| 87/87 [00:17<00:00,  5.93it/s]\n",
            "n-grams generation: 100%|██████████| 87/87 [00:00<00:00, 950.71it/s]\n",
            "n-grams population:   0%|          | 0/87 [00:00<?, ?it/s]"
          ],
          "name": "stderr"
        },
        {
          "output_type": "stream",
          "text": [
            "   CD_IN  VB_DT  _use_  _allow_  ...  ProjectID  Class  OnlyQuality  IsFunctional\n",
            "0    NaN    NaN    NaN      NaN  ...          1      F            1           NaN\n",
            "1    NaN    NaN    NaN      NaN  ...          1      F            1           NaN\n",
            "2    NaN    NaN    NaN      NaN  ...          1      F            0           NaN\n",
            "3    NaN    NaN    NaN      NaN  ...          1      F            1           NaN\n",
            "4    NaN    NaN    NaN      NaN  ...          1      F            0           NaN\n",
            "\n",
            "[5 rows x 105 columns]\n"
          ],
          "name": "stdout"
        },
        {
          "output_type": "stream",
          "text": [
            "n-grams population: 100%|██████████| 87/87 [00:00<00:00, 112.79it/s]\n"
          ],
          "name": "stderr"
        },
        {
          "output_type": "stream",
          "text": [
            "   CD_IN  VB_DT  _use_  _allow_  ...  ProjectID  Class  OnlyQuality  IsFunctional\n",
            "0    0.0    1.0    1.0      0.0  ...          1      F            1           0.0\n",
            "1    0.0    1.0    1.0      0.0  ...          1      F            1           0.0\n",
            "2    0.0    0.0    1.0      0.0  ...          1      F            0           0.0\n",
            "3    0.0    0.0    0.0      0.0  ...          1      F            1           0.0\n",
            "4    0.0    1.0    0.0      0.0  ...          1      F            0           0.0\n",
            "\n",
            "[5 rows x 105 columns]\n",
            "   CD_IN  _use_  VB_DT  MD_VB_DT  ...  ProjectID  Class  IsQuality  IsFunctional\n",
            "0    NaN    NaN    NaN       NaN  ...          1      F          0             1\n",
            "1    NaN    NaN    NaN       NaN  ...          1      F          1             1\n",
            "2    NaN    NaN    NaN       NaN  ...          1      F          1             1\n",
            "3    NaN    NaN    NaN       NaN  ...          1      F          0             1\n",
            "4    NaN    NaN    NaN       NaN  ...          1      F          0             1\n",
            "\n",
            "[5 rows x 105 columns]\n"
          ],
          "name": "stdout"
        },
        {
          "output_type": "stream",
          "text": [
            "Parse trees: 100%|██████████| 62/62 [00:15<00:00,  4.57it/s]\n",
            "n-grams generation: 100%|██████████| 62/62 [00:00<00:00, 820.25it/s]\n",
            "n-grams population:  13%|█▎        | 8/62 [00:00<00:00, 79.02it/s]"
          ],
          "name": "stderr"
        },
        {
          "output_type": "stream",
          "text": [
            "   CD_IN  _use_  VB_DT  MD_VB_DT  ...  ProjectID  Class  IsQuality  IsFunctional\n",
            "0    NaN    NaN    NaN       NaN  ...          1      F          0             1\n",
            "1    NaN    NaN    NaN       NaN  ...          1      F          1             1\n",
            "2    NaN    NaN    NaN       NaN  ...          1      F          1             1\n",
            "3    NaN    NaN    NaN       NaN  ...          1      F          0             1\n",
            "4    NaN    NaN    NaN       NaN  ...          1      F          0             1\n",
            "\n",
            "[5 rows x 105 columns]\n"
          ],
          "name": "stdout"
        },
        {
          "output_type": "stream",
          "text": [
            "n-grams population: 100%|██████████| 62/62 [00:00<00:00, 79.98it/s]\n"
          ],
          "name": "stderr"
        },
        {
          "output_type": "stream",
          "text": [
            "   CD_IN  _use_  VB_DT  MD_VB_DT  ...  ProjectID  Class  IsQuality  IsFunctional\n",
            "0    0.0    0.0    1.0       1.0  ...          1      F          0             1\n",
            "1    0.0    0.0    0.0       0.0  ...          1      F          1             1\n",
            "2    0.0    0.0    0.0       0.0  ...          1      F          1             1\n",
            "3    1.0    0.0    1.0       0.0  ...          1      F          0             1\n",
            "4    0.0    0.0    0.0       0.0  ...          1      F          0             1\n",
            "\n",
            "[5 rows x 105 columns]\n",
            "   CD_IN  MD_VB_DT  _allow_  ...  Class  IsQuality  IsFunctional\n",
            "0    NaN       NaN      NaN  ...      F          0             1\n",
            "1    NaN       NaN      NaN  ...      F          1             1\n",
            "2    NaN       NaN      NaN  ...      F          1             1\n",
            "3    NaN       NaN      NaN  ...      F          0             1\n",
            "4    NaN       NaN      NaN  ...      F          0             1\n",
            "\n",
            "[5 rows x 105 columns]\n"
          ],
          "name": "stdout"
        },
        {
          "output_type": "stream",
          "text": [
            "Parse trees: 100%|██████████| 62/62 [00:15<00:00,  4.59it/s]\n",
            "n-grams generation: 100%|██████████| 62/62 [00:00<00:00, 813.65it/s]\n",
            "n-grams population:  15%|█▍        | 9/62 [00:00<00:00, 77.68it/s]"
          ],
          "name": "stderr"
        },
        {
          "output_type": "stream",
          "text": [
            "   CD_IN  MD_VB_DT  _allow_  ...  Class  IsQuality  IsFunctional\n",
            "0    NaN       NaN      NaN  ...      F          0             1\n",
            "1    NaN       NaN      NaN  ...      F          1             1\n",
            "2    NaN       NaN      NaN  ...      F          1             1\n",
            "3    NaN       NaN      NaN  ...      F          0             1\n",
            "4    NaN       NaN      NaN  ...      F          0             1\n",
            "\n",
            "[5 rows x 105 columns]\n"
          ],
          "name": "stdout"
        },
        {
          "output_type": "stream",
          "text": [
            "n-grams population: 100%|██████████| 62/62 [00:00<00:00, 90.37it/s]\n"
          ],
          "name": "stderr"
        },
        {
          "output_type": "stream",
          "text": [
            "   CD_IN  MD_VB_DT  _allow_  ...  Class  IsQuality  IsFunctional\n",
            "0    0.0       1.0      0.0  ...      F          0             1\n",
            "1    0.0       0.0      0.0  ...      F          1             1\n",
            "2    0.0       0.0      0.0  ...      F          1             1\n",
            "3    1.0       0.0      0.0  ...      F          0             1\n",
            "4    0.0       0.0      1.0  ...      F          0             1\n",
            "\n",
            "[5 rows x 105 columns]\n",
            "   CD_IN  IN_CD  MD_VB_DT  _allow_  ...  ProjectID  Class  IsQuality  OnlyFunctional\n",
            "0    NaN    NaN       NaN      NaN  ...          1      F        NaN               1\n",
            "1    NaN    NaN       NaN      NaN  ...          1      F        NaN               0\n",
            "2    NaN    NaN       NaN      NaN  ...          1      F        NaN               0\n",
            "3    NaN    NaN       NaN      NaN  ...          1      F        NaN               1\n",
            "4    NaN    NaN       NaN      NaN  ...          1      F        NaN               1\n",
            "\n",
            "[5 rows x 105 columns]\n"
          ],
          "name": "stdout"
        },
        {
          "output_type": "stream",
          "text": [
            "Parse trees: 100%|██████████| 62/62 [00:15<00:00,  4.59it/s]\n",
            "n-grams generation: 100%|██████████| 62/62 [00:00<00:00, 836.35it/s]\n",
            "n-grams population:  13%|█▎        | 8/62 [00:00<00:00, 70.63it/s]"
          ],
          "name": "stderr"
        },
        {
          "output_type": "stream",
          "text": [
            "   CD_IN  IN_CD  MD_VB_DT  _allow_  ...  ProjectID  Class  IsQuality  OnlyFunctional\n",
            "0    NaN    NaN       NaN      NaN  ...          1      F        NaN               1\n",
            "1    NaN    NaN       NaN      NaN  ...          1      F        NaN               0\n",
            "2    NaN    NaN       NaN      NaN  ...          1      F        NaN               0\n",
            "3    NaN    NaN       NaN      NaN  ...          1      F        NaN               1\n",
            "4    NaN    NaN       NaN      NaN  ...          1      F        NaN               1\n",
            "\n",
            "[5 rows x 105 columns]\n"
          ],
          "name": "stdout"
        },
        {
          "output_type": "stream",
          "text": [
            "n-grams population: 100%|██████████| 62/62 [00:00<00:00, 77.27it/s]\n"
          ],
          "name": "stderr"
        },
        {
          "output_type": "stream",
          "text": [
            "   CD_IN  IN_CD  MD_VB_DT  _allow_  ...  ProjectID  Class  IsQuality  OnlyFunctional\n",
            "0    0.0    0.0       1.0      0.0  ...          1      F        0.0               1\n",
            "1    0.0    0.0       0.0      0.0  ...          1      F        0.0               0\n",
            "2    0.0    0.0       0.0      0.0  ...          1      F        0.0               0\n",
            "3    1.0    0.0       0.0      0.0  ...          1      F        0.0               1\n",
            "4    0.0    0.0       0.0      1.0  ...          1      F        0.0               1\n",
            "\n",
            "[5 rows x 105 columns]\n",
            "   CD_IN  VB_DT  _use_  _allow_  ...  ProjectID  Class  OnlyQuality  IsFunctional\n",
            "0    NaN    NaN    NaN      NaN  ...          1      F            0           NaN\n",
            "1    NaN    NaN    NaN      NaN  ...          1      F            0           NaN\n",
            "2    NaN    NaN    NaN      NaN  ...          1      F            0           NaN\n",
            "3    NaN    NaN    NaN      NaN  ...          1      F            0           NaN\n",
            "4    NaN    NaN    NaN      NaN  ...          1      F            0           NaN\n",
            "\n",
            "[5 rows x 105 columns]\n"
          ],
          "name": "stdout"
        },
        {
          "output_type": "stream",
          "text": [
            "Parse trees: 100%|██████████| 62/62 [00:15<00:00,  4.56it/s]\n",
            "n-grams generation: 100%|██████████| 62/62 [00:00<00:00, 806.41it/s]\n",
            "n-grams population:  13%|█▎        | 8/62 [00:00<00:00, 78.43it/s]"
          ],
          "name": "stderr"
        },
        {
          "output_type": "stream",
          "text": [
            "   CD_IN  VB_DT  _use_  _allow_  ...  ProjectID  Class  OnlyQuality  IsFunctional\n",
            "0    NaN    NaN    NaN      NaN  ...          1      F            0           NaN\n",
            "1    NaN    NaN    NaN      NaN  ...          1      F            0           NaN\n",
            "2    NaN    NaN    NaN      NaN  ...          1      F            0           NaN\n",
            "3    NaN    NaN    NaN      NaN  ...          1      F            0           NaN\n",
            "4    NaN    NaN    NaN      NaN  ...          1      F            0           NaN\n",
            "\n",
            "[5 rows x 105 columns]\n"
          ],
          "name": "stdout"
        },
        {
          "output_type": "stream",
          "text": [
            "n-grams population: 100%|██████████| 62/62 [00:00<00:00, 81.87it/s]\n"
          ],
          "name": "stderr"
        },
        {
          "output_type": "stream",
          "text": [
            "   CD_IN  VB_DT  _use_  _allow_  ...  ProjectID  Class  OnlyQuality  IsFunctional\n",
            "0    0.0    1.0    0.0      0.0  ...          1      F            0           0.0\n",
            "1    0.0    0.0    0.0      0.0  ...          1      F            0           0.0\n",
            "2    0.0    0.0    0.0      0.0  ...          1      F            0           0.0\n",
            "3    1.0    1.0    0.0      0.0  ...          1      F            0           0.0\n",
            "4    0.0    0.0    0.0      1.0  ...          1      F            0           0.0\n",
            "\n",
            "[5 rows x 105 columns]\n",
            "   CD_IN  _use_  VB_DT  MD_VB_DT  ...  ProjectID  Class  IsQuality  IsFunctional\n",
            "0    NaN    NaN    NaN       NaN  ...          1      F          1             0\n",
            "1    NaN    NaN    NaN       NaN  ...          1      F          1             1\n",
            "2    NaN    NaN    NaN       NaN  ...          1      F          0             1\n",
            "3    NaN    NaN    NaN       NaN  ...          1      F          0             1\n",
            "4    NaN    NaN    NaN       NaN  ...          1      F          1             0\n",
            "\n",
            "[5 rows x 105 columns]\n"
          ],
          "name": "stdout"
        },
        {
          "output_type": "stream",
          "text": [
            "Parse trees: 100%|██████████| 85/85 [00:19<00:00,  6.09it/s]\n",
            "n-grams generation: 100%|██████████| 85/85 [00:00<00:00, 730.04it/s]\n",
            "n-grams population:   0%|          | 0/85 [00:00<?, ?it/s]"
          ],
          "name": "stderr"
        },
        {
          "output_type": "stream",
          "text": [
            "   CD_IN  _use_  VB_DT  MD_VB_DT  ...  ProjectID  Class  IsQuality  IsFunctional\n",
            "0    NaN    NaN    NaN       NaN  ...          1      F          1             0\n",
            "1    NaN    NaN    NaN       NaN  ...          1      F          1             1\n",
            "2    NaN    NaN    NaN       NaN  ...          1      F          0             1\n",
            "3    NaN    NaN    NaN       NaN  ...          1      F          0             1\n",
            "4    NaN    NaN    NaN       NaN  ...          1      F          1             0\n",
            "\n",
            "[5 rows x 105 columns]\n"
          ],
          "name": "stdout"
        },
        {
          "output_type": "stream",
          "text": [
            "n-grams population: 100%|██████████| 85/85 [00:00<00:00, 95.82it/s]\n"
          ],
          "name": "stderr"
        },
        {
          "output_type": "stream",
          "text": [
            "   CD_IN  _use_  VB_DT  MD_VB_DT  ...  ProjectID  Class  IsQuality  IsFunctional\n",
            "0    0.0    0.0    0.0       0.0  ...          1      F          1             0\n",
            "1    0.0    0.0    0.0       0.0  ...          1      F          1             1\n",
            "2    0.0    0.0    0.0       0.0  ...          1      F          0             1\n",
            "3    0.0    0.0    0.0       0.0  ...          1      F          0             1\n",
            "4    0.0    0.0    0.0       0.0  ...          1      F          1             0\n",
            "\n",
            "[5 rows x 105 columns]\n",
            "   CD_IN  MD_VB_DT  _allow_  ...  Class  IsQuality  IsFunctional\n",
            "0    NaN       NaN      NaN  ...      F          1             0\n",
            "1    NaN       NaN      NaN  ...      F          1             1\n",
            "2    NaN       NaN      NaN  ...      F          0             1\n",
            "3    NaN       NaN      NaN  ...      F          0             1\n",
            "4    NaN       NaN      NaN  ...      F          1             0\n",
            "\n",
            "[5 rows x 105 columns]\n"
          ],
          "name": "stdout"
        },
        {
          "output_type": "stream",
          "text": [
            "Parse trees: 100%|██████████| 85/85 [00:19<00:00,  6.03it/s]\n",
            "n-grams generation: 100%|██████████| 85/85 [00:00<00:00, 858.05it/s]\n",
            "n-grams population:   0%|          | 0/85 [00:00<?, ?it/s]"
          ],
          "name": "stderr"
        },
        {
          "output_type": "stream",
          "text": [
            "   CD_IN  MD_VB_DT  _allow_  ...  Class  IsQuality  IsFunctional\n",
            "0    NaN       NaN      NaN  ...      F          1             0\n",
            "1    NaN       NaN      NaN  ...      F          1             1\n",
            "2    NaN       NaN      NaN  ...      F          0             1\n",
            "3    NaN       NaN      NaN  ...      F          0             1\n",
            "4    NaN       NaN      NaN  ...      F          1             0\n",
            "\n",
            "[5 rows x 105 columns]\n"
          ],
          "name": "stdout"
        },
        {
          "output_type": "stream",
          "text": [
            "n-grams population: 100%|██████████| 85/85 [00:00<00:00, 108.27it/s]\n"
          ],
          "name": "stderr"
        },
        {
          "output_type": "stream",
          "text": [
            "   CD_IN  MD_VB_DT  _allow_  ...  Class  IsQuality  IsFunctional\n",
            "0    0.0       0.0      0.0  ...      F          1             0\n",
            "1    0.0       0.0      0.0  ...      F          1             1\n",
            "2    0.0       0.0      0.0  ...      F          0             1\n",
            "3    0.0       0.0      0.0  ...      F          0             1\n",
            "4    0.0       0.0      0.0  ...      F          1             0\n",
            "\n",
            "[5 rows x 105 columns]\n",
            "   CD_IN  IN_CD  MD_VB_DT  _allow_  ...  ProjectID  Class  IsQuality  OnlyFunctional\n",
            "0    NaN    NaN       NaN      NaN  ...          1      F        NaN               0\n",
            "1    NaN    NaN       NaN      NaN  ...          1      F        NaN               0\n",
            "2    NaN    NaN       NaN      NaN  ...          1      F        NaN               1\n",
            "3    NaN    NaN       NaN      NaN  ...          1      F        NaN               1\n",
            "4    NaN    NaN       NaN      NaN  ...          1      F        NaN               0\n",
            "\n",
            "[5 rows x 105 columns]\n"
          ],
          "name": "stdout"
        },
        {
          "output_type": "stream",
          "text": [
            "Parse trees: 100%|██████████| 85/85 [00:19<00:00,  5.96it/s]\n",
            "n-grams generation: 100%|██████████| 85/85 [00:00<00:00, 740.22it/s]\n",
            "n-grams population:   0%|          | 0/85 [00:00<?, ?it/s]"
          ],
          "name": "stderr"
        },
        {
          "output_type": "stream",
          "text": [
            "   CD_IN  IN_CD  MD_VB_DT  _allow_  ...  ProjectID  Class  IsQuality  OnlyFunctional\n",
            "0    NaN    NaN       NaN      NaN  ...          1      F        NaN               0\n",
            "1    NaN    NaN       NaN      NaN  ...          1      F        NaN               0\n",
            "2    NaN    NaN       NaN      NaN  ...          1      F        NaN               1\n",
            "3    NaN    NaN       NaN      NaN  ...          1      F        NaN               1\n",
            "4    NaN    NaN       NaN      NaN  ...          1      F        NaN               0\n",
            "\n",
            "[5 rows x 105 columns]\n"
          ],
          "name": "stdout"
        },
        {
          "output_type": "stream",
          "text": [
            "n-grams population: 100%|██████████| 85/85 [00:00<00:00, 98.29it/s]\n"
          ],
          "name": "stderr"
        },
        {
          "output_type": "stream",
          "text": [
            "   CD_IN  IN_CD  MD_VB_DT  _allow_  ...  ProjectID  Class  IsQuality  OnlyFunctional\n",
            "0    0.0    0.0       0.0      0.0  ...          1      F        0.0               0\n",
            "1    0.0    0.0       0.0      0.0  ...          1      F        0.0               0\n",
            "2    0.0    1.0       0.0      0.0  ...          1      F        0.0               1\n",
            "3    0.0    0.0       0.0      0.0  ...          1      F        0.0               1\n",
            "4    0.0    0.0       0.0      0.0  ...          1      F        0.0               0\n",
            "\n",
            "[5 rows x 105 columns]\n",
            "   CD_IN  VB_DT  _use_  _allow_  ...  ProjectID  Class  OnlyQuality  IsFunctional\n",
            "0    NaN    NaN    NaN      NaN  ...          1      F            1           NaN\n",
            "1    NaN    NaN    NaN      NaN  ...          1      F            0           NaN\n",
            "2    NaN    NaN    NaN      NaN  ...          1      F            0           NaN\n",
            "3    NaN    NaN    NaN      NaN  ...          1      F            0           NaN\n",
            "4    NaN    NaN    NaN      NaN  ...          1      F            1           NaN\n",
            "\n",
            "[5 rows x 105 columns]\n"
          ],
          "name": "stdout"
        },
        {
          "output_type": "stream",
          "text": [
            "Parse trees: 100%|██████████| 85/85 [00:19<00:00,  5.98it/s]\n",
            "n-grams generation: 100%|██████████| 85/85 [00:00<00:00, 863.82it/s]\n",
            "n-grams population:   0%|          | 0/85 [00:00<?, ?it/s]"
          ],
          "name": "stderr"
        },
        {
          "output_type": "stream",
          "text": [
            "   CD_IN  VB_DT  _use_  _allow_  ...  ProjectID  Class  OnlyQuality  IsFunctional\n",
            "0    NaN    NaN    NaN      NaN  ...          1      F            1           NaN\n",
            "1    NaN    NaN    NaN      NaN  ...          1      F            0           NaN\n",
            "2    NaN    NaN    NaN      NaN  ...          1      F            0           NaN\n",
            "3    NaN    NaN    NaN      NaN  ...          1      F            0           NaN\n",
            "4    NaN    NaN    NaN      NaN  ...          1      F            1           NaN\n",
            "\n",
            "[5 rows x 105 columns]\n"
          ],
          "name": "stdout"
        },
        {
          "output_type": "stream",
          "text": [
            "n-grams population: 100%|██████████| 85/85 [00:00<00:00, 99.44it/s] \n"
          ],
          "name": "stderr"
        },
        {
          "output_type": "stream",
          "text": [
            "   CD_IN  VB_DT  _use_  _allow_  ...  ProjectID  Class  OnlyQuality  IsFunctional\n",
            "0    0.0    0.0    0.0      0.0  ...          1      F            1           0.0\n",
            "1    0.0    0.0    0.0      0.0  ...          1      F            0           0.0\n",
            "2    0.0    0.0    0.0      0.0  ...          1      F            0           0.0\n",
            "3    0.0    0.0    0.0      0.0  ...          1      F            0           0.0\n",
            "4    0.0    0.0    0.0      0.0  ...          1      F            1           0.0\n",
            "\n",
            "[5 rows x 105 columns]\n",
            "   CD_IN  _use_  VB_DT  MD_VB_DT  ...  ProjectID  Class  IsQuality  IsFunctional\n",
            "0    NaN    NaN    NaN       NaN  ...          1      F          1             1\n",
            "1    NaN    NaN    NaN       NaN  ...          1      F          1             0\n",
            "2    NaN    NaN    NaN       NaN  ...          1      F          1             0\n",
            "3    NaN    NaN    NaN       NaN  ...          1      F          1             0\n",
            "4    NaN    NaN    NaN       NaN  ...          1      F          1             0\n",
            "\n",
            "[5 rows x 105 columns]\n"
          ],
          "name": "stdout"
        },
        {
          "output_type": "stream",
          "text": [
            "Parse trees: 100%|██████████| 236/236 [00:57<00:00,  4.68it/s]\n",
            "n-grams generation:  30%|██▉       | 70/236 [00:00<00:00, 699.24it/s]"
          ],
          "name": "stderr"
        },
        {
          "output_type": "stream",
          "text": [
            "   CD_IN  _use_  VB_DT  MD_VB_DT  ...  ProjectID  Class  IsQuality  IsFunctional\n",
            "0    NaN    NaN    NaN       NaN  ...          1      F          1             1\n",
            "1    NaN    NaN    NaN       NaN  ...          1      F          1             0\n",
            "2    NaN    NaN    NaN       NaN  ...          1      F          1             0\n",
            "3    NaN    NaN    NaN       NaN  ...          1      F          1             0\n",
            "4    NaN    NaN    NaN       NaN  ...          1      F          1             0\n",
            "\n",
            "[5 rows x 105 columns]\n"
          ],
          "name": "stdout"
        },
        {
          "output_type": "stream",
          "text": [
            "n-grams generation: 100%|██████████| 236/236 [00:00<00:00, 602.83it/s]\n",
            "n-grams population: 100%|██████████| 236/236 [00:03<00:00, 71.37it/s]\n"
          ],
          "name": "stderr"
        },
        {
          "output_type": "stream",
          "text": [
            "   CD_IN  _use_  VB_DT  MD_VB_DT  ...  ProjectID  Class  IsQuality  IsFunctional\n",
            "0    0.0    0.0    1.0       1.0  ...          1      F          1             1\n",
            "1    0.0    0.0    0.0       0.0  ...          1      F          1             0\n",
            "2    0.0    0.0    0.0       0.0  ...          1      F          1             0\n",
            "3    0.0    0.0    0.0       0.0  ...          1      F          1             0\n",
            "4    0.0    0.0    1.0       1.0  ...          1      F          1             0\n",
            "\n",
            "[5 rows x 105 columns]\n",
            "   CD_IN  MD_VB_DT  _allow_  ...  Class  IsQuality  IsFunctional\n",
            "0    NaN       NaN      NaN  ...      F          1             1\n",
            "1    NaN       NaN      NaN  ...      F          1             0\n",
            "2    NaN       NaN      NaN  ...      F          1             0\n",
            "3    NaN       NaN      NaN  ...      F          1             0\n",
            "4    NaN       NaN      NaN  ...      F          1             0\n",
            "\n",
            "[5 rows x 105 columns]\n"
          ],
          "name": "stdout"
        },
        {
          "output_type": "stream",
          "text": [
            "Parse trees: 100%|██████████| 236/236 [00:57<00:00,  4.65it/s]\n",
            "n-grams generation:  30%|███       | 71/236 [00:00<00:00, 690.21it/s]"
          ],
          "name": "stderr"
        },
        {
          "output_type": "stream",
          "text": [
            "   CD_IN  MD_VB_DT  _allow_  ...  Class  IsQuality  IsFunctional\n",
            "0    NaN       NaN      NaN  ...      F          1             1\n",
            "1    NaN       NaN      NaN  ...      F          1             0\n",
            "2    NaN       NaN      NaN  ...      F          1             0\n",
            "3    NaN       NaN      NaN  ...      F          1             0\n",
            "4    NaN       NaN      NaN  ...      F          1             0\n",
            "\n",
            "[5 rows x 105 columns]\n"
          ],
          "name": "stdout"
        },
        {
          "output_type": "stream",
          "text": [
            "n-grams generation: 100%|██████████| 236/236 [00:00<00:00, 603.96it/s]\n",
            "n-grams population: 100%|██████████| 236/236 [00:03<00:00, 77.53it/s]\n"
          ],
          "name": "stderr"
        },
        {
          "output_type": "stream",
          "text": [
            "   CD_IN  MD_VB_DT  _allow_  ...  Class  IsQuality  IsFunctional\n",
            "0    0.0       1.0      0.0  ...      F          1             1\n",
            "1    0.0       0.0      0.0  ...      F          1             0\n",
            "2    0.0       0.0      0.0  ...      F          1             0\n",
            "3    0.0       0.0      0.0  ...      F          1             0\n",
            "4    0.0       1.0      0.0  ...      F          1             0\n",
            "\n",
            "[5 rows x 105 columns]\n",
            "   CD_IN  IN_CD  MD_VB_DT  _allow_  ...  ProjectID  Class  IsQuality  OnlyFunctional\n",
            "0    NaN    NaN       NaN      NaN  ...          1      F        NaN               0\n",
            "1    NaN    NaN       NaN      NaN  ...          1      F        NaN               0\n",
            "2    NaN    NaN       NaN      NaN  ...          1      F        NaN               0\n",
            "3    NaN    NaN       NaN      NaN  ...          1      F        NaN               0\n",
            "4    NaN    NaN       NaN      NaN  ...          1      F        NaN               0\n",
            "\n",
            "[5 rows x 105 columns]\n"
          ],
          "name": "stdout"
        },
        {
          "output_type": "stream",
          "text": [
            "Parse trees: 100%|██████████| 236/236 [00:57<00:00,  4.42it/s]\n",
            "n-grams generation:  30%|██▉       | 70/236 [00:00<00:00, 691.28it/s]"
          ],
          "name": "stderr"
        },
        {
          "output_type": "stream",
          "text": [
            "   CD_IN  IN_CD  MD_VB_DT  _allow_  ...  ProjectID  Class  IsQuality  OnlyFunctional\n",
            "0    NaN    NaN       NaN      NaN  ...          1      F        NaN               0\n",
            "1    NaN    NaN       NaN      NaN  ...          1      F        NaN               0\n",
            "2    NaN    NaN       NaN      NaN  ...          1      F        NaN               0\n",
            "3    NaN    NaN       NaN      NaN  ...          1      F        NaN               0\n",
            "4    NaN    NaN       NaN      NaN  ...          1      F        NaN               0\n",
            "\n",
            "[5 rows x 105 columns]\n"
          ],
          "name": "stdout"
        },
        {
          "output_type": "stream",
          "text": [
            "n-grams generation: 100%|██████████| 236/236 [00:00<00:00, 601.31it/s]\n",
            "n-grams population: 100%|██████████| 236/236 [00:03<00:00, 69.85it/s]\n"
          ],
          "name": "stderr"
        },
        {
          "output_type": "stream",
          "text": [
            "   CD_IN  IN_CD  MD_VB_DT  _allow_  ...  ProjectID  Class  IsQuality  OnlyFunctional\n",
            "0    0.0    0.0       1.0      0.0  ...          1      F        0.0               0\n",
            "1    0.0    0.0       0.0      0.0  ...          1      F        0.0               0\n",
            "2    0.0    1.0       0.0      0.0  ...          1      F        0.0               0\n",
            "3    0.0    0.0       0.0      0.0  ...          1      F        0.0               0\n",
            "4    0.0    0.0       1.0      0.0  ...          1      F        0.0               0\n",
            "\n",
            "[5 rows x 105 columns]\n",
            "   CD_IN  VB_DT  _use_  _allow_  ...  ProjectID  Class  OnlyQuality  IsFunctional\n",
            "0    NaN    NaN    NaN      NaN  ...          1      F            0           NaN\n",
            "1    NaN    NaN    NaN      NaN  ...          1      F            1           NaN\n",
            "2    NaN    NaN    NaN      NaN  ...          1      F            1           NaN\n",
            "3    NaN    NaN    NaN      NaN  ...          1      F            1           NaN\n",
            "4    NaN    NaN    NaN      NaN  ...          1      F            1           NaN\n",
            "\n",
            "[5 rows x 105 columns]\n"
          ],
          "name": "stdout"
        },
        {
          "output_type": "stream",
          "text": [
            "Parse trees: 100%|██████████| 236/236 [00:57<00:00,  4.61it/s]\n",
            "n-grams generation:  29%|██▉       | 69/236 [00:00<00:00, 686.64it/s]"
          ],
          "name": "stderr"
        },
        {
          "output_type": "stream",
          "text": [
            "   CD_IN  VB_DT  _use_  _allow_  ...  ProjectID  Class  OnlyQuality  IsFunctional\n",
            "0    NaN    NaN    NaN      NaN  ...          1      F            0           NaN\n",
            "1    NaN    NaN    NaN      NaN  ...          1      F            1           NaN\n",
            "2    NaN    NaN    NaN      NaN  ...          1      F            1           NaN\n",
            "3    NaN    NaN    NaN      NaN  ...          1      F            1           NaN\n",
            "4    NaN    NaN    NaN      NaN  ...          1      F            1           NaN\n",
            "\n",
            "[5 rows x 105 columns]\n"
          ],
          "name": "stdout"
        },
        {
          "output_type": "stream",
          "text": [
            "n-grams generation: 100%|██████████| 236/236 [00:00<00:00, 595.20it/s]\n",
            "n-grams population: 100%|██████████| 236/236 [00:03<00:00, 69.19it/s]\n"
          ],
          "name": "stderr"
        },
        {
          "output_type": "stream",
          "text": [
            "   CD_IN  VB_DT  _use_  _allow_  ...  ProjectID  Class  OnlyQuality  IsFunctional\n",
            "0    0.0    1.0    0.0      0.0  ...          1      F            0           0.0\n",
            "1    0.0    0.0    0.0      0.0  ...          1      F            1           0.0\n",
            "2    0.0    0.0    0.0      0.0  ...          1      F            1           0.0\n",
            "3    0.0    0.0    0.0      0.0  ...          1      F            1           0.0\n",
            "4    0.0    1.0    0.0      0.0  ...          1      F            1           0.0\n",
            "\n",
            "[5 rows x 105 columns]\n"
          ],
          "name": "stdout"
        }
      ]
    }
  ]
}